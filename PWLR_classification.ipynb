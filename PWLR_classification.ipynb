{
 "cells": [
  {
   "cell_type": "code",
   "execution_count": 1,
   "metadata": {},
   "outputs": [],
   "source": [
    "import numpy as np\n",
    "from numpy import inf\n",
    "import matplotlib.pyplot as plt\n",
    "import glob\n",
    "import torch\n",
    "from sklearn.model_selection import train_test_split\n",
    "from sklearn.ensemble import RandomForestClassifier\n",
    "from sklearn.model_selection import StratifiedKFold\n",
    "from sklearn.metrics import accuracy_score\n",
    "from sklearn.model_selection import GridSearchCV"
   ]
  },
  {
   "cell_type": "code",
   "execution_count": null,
   "metadata": {},
   "outputs": [],
   "source": [
    "#Please decomment these two command lines if the nbimporter library is not installed\n",
    "#!pip install nbimporter"
   ]
  },
  {
   "cell_type": "code",
   "execution_count": 2,
   "metadata": {},
   "outputs": [],
   "source": [
    "import sys\n",
    "import nbimporter\n",
    "import PWLR_Embedding as PWLR\n",
    "import warnings\n",
    "warnings.filterwarnings('ignore')"
   ]
  },
  {
   "cell_type": "markdown",
   "metadata": {},
   "source": [
    "# Classification Functions"
   ]
  },
  {
   "cell_type": "code",
   "execution_count": 3,
   "metadata": {},
   "outputs": [],
   "source": [
    "#Load graph labels\n",
    "def load_index(name):\n",
    "    index_set = []\n",
    "    with open(\"data/\"+name+\"/Labels.txt\") as f:\n",
    "        for line in f:\n",
    "            if line[-2:] == \"\\n\":\n",
    "                index_set += [int(line[:-2])]\n",
    "            else:\n",
    "                index_set += [int(line)]\n",
    "    index_set = np.array(index_set)\n",
    "    return index_set\n",
    "\n",
    "#Classification with Grid Search\n",
    "def classifier_model(x_data, y_data,SKF, N_JOBS, CV, PARAMS, classifier_type='rf'):\n",
    "    total_acc=[]\n",
    "    for train_idx, test_idx in SKF.split(x_data, y_data):\n",
    "        X_train, X_test = x_data[train_idx], x_data[test_idx]\n",
    "        y_train, y_test = y_data[train_idx], y_data[test_idx]            \n",
    "        rf=RandomForestClassifier(random_state = 42)\n",
    "        grid_cv = GridSearchCV(rf, param_grid=PARAMS, cv=CV, n_jobs=N_JOBS)\n",
    "        grid_cv.fit(X_train, y_train)\n",
    "        model=grid_cv.best_estimator_\n",
    "\n",
    "        pred_y=model.predict(X_test)    \n",
    "        acc = accuracy_score(y_test, pred_y)\n",
    "        total_acc+=[acc]\n",
    "        \n",
    "    return np.mean(total_acc)\n",
    "\n",
    "#Classification without Grid Search\n",
    "def prelim_classifier_model(x_data, y_data,SKF, N_JOBS, PARAMS, classifier_type='rf'):\n",
    "    total_acc=[]\n",
    "    for train_idx, test_idx in SKF.split(x_data, y_data):\n",
    "        X_train, X_test = x_data[train_idx], x_data[test_idx]\n",
    "        y_train, y_test = y_data[train_idx], y_data[test_idx]            \n",
    "        rf=RandomForestClassifier(random_state = 42)\n",
    "        rf.fit(X_train, y_train)\n",
    "        model=rf\n",
    "        pred_y=model.predict(X_test)    \n",
    "        acc = accuracy_score(y_test, pred_y)\n",
    "        total_acc+=[acc]\n",
    "    return np.mean(total_acc) \n",
    "\n",
    "#Sample feature importance obtained from RF\n",
    "def classifier_model_feature(dataset_name, entry_type, x_data, y_data,SKF, N_JOBS, CV, PARAMS, classifier_type='rf'):\n",
    "    total_acc=[]\n",
    "    i = 0\n",
    "    for train_idx, test_idx in SKF.split(x_data, y_data):\n",
    "        i += 1\n",
    "        if i > 1:\n",
    "            continue\n",
    "\n",
    "        X_train, X_test = x_data[train_idx], x_data[test_idx]\n",
    "        y_train, y_test = y_data[train_idx], y_data[test_idx]            \n",
    "        rf=RandomForestClassifier(random_state = 42)\n",
    "        rf.fit(X_train, y_train)\n",
    "        model=rf\n",
    "        \n",
    "        pred_y=model.predict(X_test)    \n",
    "        acc = accuracy_score(y_test, pred_y)\n",
    "        total_acc+=[acc]\n",
    "        \n",
    "        #extract feature importance\n",
    "        feature = model.feature_importances_\n",
    "        m_list = []\n",
    "        a_list = PWLR.GraphDataset(dataset_name)\n",
    "        edge_list = a_list.get_edge_degree_list()\n",
    "        for entry in edge_list:\n",
    "            m_list += [str((entry[0],entry[1]))]\n",
    "        \n",
    "        #arrange histogram in descending order\n",
    "        print(\"---Feature Importance---\")\n",
    "        histogram = []\n",
    "        for index in range(0,len(m_list)):\n",
    "            entry = [m_list[index],feature[index]]\n",
    "            print(entry)\n",
    "            histogram += [entry]\n",
    "        histogram.sort(key=lambda x: x[1])\n",
    "        \n",
    "        #draw histogram\n",
    "        m_list = []\n",
    "        feature = []\n",
    "        for index in range(0,len(histogram)):\n",
    "            m_list += [histogram[index][0]]\n",
    "            feature += [histogram[index][1]]\n",
    "        \n",
    "        fig, ax = plt.subplots(figsize=(len(m_list)/2,len(m_list)/4))\n",
    "        ax.barh(m_list, feature, align='center')\n",
    "        ax.set_title(dataset_name+\":H\"+str(entry_type))\n",
    "        ax.set_xlabel('Feature Importance')\n",
    "        ax.set_ylabel('Edge Tuples')\n",
    "        labels = ax.get_yticklabels()\n",
    "        labels[-1].set_fontweight('bold')\n",
    "        plt.show()\n",
    "        \n",
    "        return 0"
   ]
  },
  {
   "cell_type": "code",
   "execution_count": 4,
   "metadata": {},
   "outputs": [],
   "source": [
    "def grid_search_graph(name, entry_type, parameter_list, repeat_num, n_estimator_list, max_depth_list, data_type='Discrete', classifier_type='rf', embed_type=1, grid_check=True, feature_check=True):\n",
    "    if data_type == 'Discrete':\n",
    "        HH0=np.load(\"embed/\"+name+f\"_discrete_component_seq_30_30_ver{embed_type}.npy\")\n",
    "        HH1=np.load(\"embed/\"+name+f\"_discrete_cycle_seq_30_30_ver{embed_type}.npy\")\n",
    "    elif data_type == 'Continuous':\n",
    "        HH0=np.load(\"embed/\"+name+f\"_component_seq_30_30_ver{embed_type}.npy\")\n",
    "        HH1=np.load(\"embed/\"+name+f\"_cycle_seq_30_30_ver{embed_type}.npy\")\n",
    "    else:\n",
    "        HH0=np.load(\"embed/\"+name+f\"_no_label_component_seq_30_30_ver{embed_type}.npy\")\n",
    "        HH1=np.load(\"embed/\"+name+f\"_no_label_cycle_seq_30_30_ver{embed_type}.npy\")        \n",
    "            \n",
    "    YY=load_index(name)\n",
    "    \n",
    "    #Preprocess any vector entries padded with np.inf or -np.inf values\n",
    "    HH0[HH0==-inf]=-1\n",
    "    HH1[HH1==-inf]=-1\n",
    "    HH0[HH0==inf]=+1000\n",
    "    HH1[HH1==inf]=+1000    \n",
    "    HH0=HH0+1\n",
    "    HH1=HH1+1\n",
    "    \n",
    "    #Concatenate results\n",
    "    test_step_matrix=[]    \n",
    "    HH2=np.concatenate((HH0,HH1),3)\n",
    "    test_step1=HH0.shape[1]\n",
    "    test_step2=HH0.shape[2]\n",
    "    for i in range(test_step1):\n",
    "        for j in range(test_step2):\n",
    "            _test=[i,j]\n",
    "            test_step_matrix.append(_test)\n",
    "    \n",
    "    if classifier_type=='rf':\n",
    "        params ={\n",
    "            'n_estimators':n_estimator_list,\n",
    "            'max_depth':max_depth_list\n",
    "        }\n",
    "    elif classifier_type=='svc':\n",
    "        params ={\n",
    "        'C': [0.1,1,10,50]\n",
    "        }\n",
    "        \n",
    "        \n",
    "    repeat=repeat_num\n",
    "    n_jobs=8\n",
    "    \n",
    "    ALL_ACC0=[]\n",
    "    ALL_ACC1=[]\n",
    "    ALL_ACC2=[]\n",
    "    for k1,k2 in test_step_matrix: \n",
    "        if (k1,k2) not in parameter_list:\n",
    "            continue\n",
    "        mean_acc_0=[]\n",
    "        mean_acc_1=[]\n",
    "        mean_acc_2=[]\n",
    "        print(f' {k1} and {k2}')\n",
    "        np.random.seed(42)        \n",
    "        all_acc0 = [] \n",
    "        all_acc1 = [] \n",
    "        all_acc2 = [] \n",
    "        skf = StratifiedKFold(n_splits=10, shuffle=True)\n",
    "        if grid_check or feature_check:\n",
    "            cv=StratifiedKFold(n_splits=5, shuffle=True)\n",
    "        x_train_0=HH0[:,k1,k2]\n",
    "        x_train_1=HH1[:,k1,k2]\n",
    "        x_train_2=HH2[:,k1,k2]\n",
    "        y_train_0=YY[:]\n",
    "        y_train_1=YY[:]\n",
    "        y_train_2=YY[:]\n",
    "        \n",
    "        all_acc0=[]\n",
    "        if entry_type == -1 or entry_type == 0:\n",
    "            print(\"---\"+str(repeat)+\" Iterations of 10-fold CV---\")\n",
    "            for _ in range(repeat):\n",
    "                if grid_check:\n",
    "                    mean_acc0=classifier_model(x_train_0, y_train_0, skf, n_jobs, cv, params)\n",
    "                else:\n",
    "                    mean_acc0=prelim_classifier_model(x_train_0, y_train_0, skf, n_jobs, params)\n",
    "                print(mean_acc0)\n",
    "                all_acc0.append(mean_acc0)\n",
    "            print(\"---Results---\")\n",
    "            print('H0',np.mean(all_acc0),np.std(all_acc0))\n",
    "            if feature_check and entry_type == 0 and embed_type == 2:\n",
    "                mean_acc0=classifier_model_feature(name, entry_type, x_train_0, y_train_0, skf, n_jobs, cv, params)\n",
    "        \n",
    "        all_acc1=[]     \n",
    "        if entry_type == -1 or entry_type == 1:\n",
    "            print(\"---\"+str(repeat)+\" Iterations of 10-fold CV---\")\n",
    "            for _ in range(repeat):\n",
    "                if grid_check:\n",
    "                    mean_acc1=classifier_model(x_train_1, y_train_1, skf,n_jobs, cv, params)\n",
    "                else:\n",
    "                    mean_acc1=prelim_classifier_model(x_train_1, y_train_1, skf, n_jobs, params)\n",
    "                print(mean_acc1)\n",
    "                all_acc1.append(mean_acc1)    \n",
    "            print(\"---Results---\")\n",
    "            print('H1',np.mean(all_acc1),np.std(all_acc1)) \n",
    "            if feature_check and entry_type == 1 and embed_type == 2:\n",
    "                mean_acc1=classifier_model_feature(name, entry_type, x_train_1, y_train_1, skf, n_jobs, cv, params)\n",
    "        \n",
    "        all_acc2=[] \n",
    "        if entry_type == -1 or entry_type == 2:\n",
    "            print(\"---\"+str(repeat)+\" Iterations of 10-fold CV---\")\n",
    "            for _ in range(repeat):\n",
    "                if grid_check:\n",
    "                    mean_acc2=classifier_model(x_train_2, y_train_2, skf,n_jobs, cv, params)\n",
    "                else:\n",
    "                    mean_acc2=prelim_classifier_model(x_train_2, y_train_2, skf, n_jobs, params)\n",
    "                print(mean_acc2)\n",
    "                all_acc2.append(mean_acc2)    \n",
    "            print(\"---Results---\")\n",
    "            print('H0+H1',np.mean(all_acc2),np.std(all_acc2))\n",
    "        \n",
    "        ALL_ACC0.append(all_acc0)\n",
    "        ALL_ACC1.append(all_acc1)\n",
    "        ALL_ACC2.append(all_acc2)\n",
    "\n",
    "    return ALL_ACC0,ALL_ACC1,ALL_ACC2 #, information_0, information_1, information_2"
   ]
  },
  {
   "cell_type": "code",
   "execution_count": 42,
   "metadata": {},
   "outputs": [],
   "source": [
    "def grid_search_graph_exact(HH0, HH1, name, entry_type, repeat_num, n_estimator_list, max_depth_list, data_type='Discrete', classifier_type='rf', embed_type=1, grid_check=True, feature_check=True):\n",
    "    YY=load_index(name)\n",
    "    \n",
    "    #Preprocess any vector entries padded with np.inf or -np.inf values\n",
    "    HH0[HH0==-inf]=-1\n",
    "    HH1[HH1==-inf]=-1\n",
    "    HH0[HH0==inf]=+1000\n",
    "    HH1[HH1==inf]=+1000    \n",
    "    HH0=HH0+1\n",
    "    HH1=HH1+1\n",
    "    \n",
    "    #Concatenate results\n",
    "    test_step_matrix=[]    \n",
    "    HH2=np.concatenate((HH0,HH1),3)\n",
    "    test_step1=HH0.shape[1]\n",
    "    test_step2=HH0.shape[2]\n",
    "    for i in range(test_step1):\n",
    "        for j in range(test_step2):\n",
    "            _test=[i,j]\n",
    "            test_step_matrix.append(_test)\n",
    "    \n",
    "    if classifier_type=='rf':\n",
    "        params ={\n",
    "            'n_estimators':n_estimator_list,\n",
    "            'max_depth':max_depth_list\n",
    "        }\n",
    "    elif classifier_type=='svc':\n",
    "        params ={\n",
    "        'C': [0.1,1,10,50]\n",
    "        }\n",
    "        \n",
    "        \n",
    "    repeat=repeat_num\n",
    "    n_jobs=8\n",
    "    \n",
    "    ALL_ACC0=[]\n",
    "    ALL_ACC1=[]\n",
    "    ALL_ACC2=[]\n",
    "    for k1,k2 in test_step_matrix: \n",
    "        mean_acc_0=[]\n",
    "        mean_acc_1=[]\n",
    "        mean_acc_2=[]\n",
    "        np.random.seed(42)        \n",
    "        all_acc0 = [] \n",
    "        all_acc1 = [] \n",
    "        all_acc2 = [] \n",
    "        skf = StratifiedKFold(n_splits=10, shuffle=True)\n",
    "        if grid_check or feature_check:\n",
    "            cv=StratifiedKFold(n_splits=5, shuffle=True)\n",
    "        x_train_0=HH0[:,k1,k2]\n",
    "        x_train_1=HH1[:,k1,k2]\n",
    "        x_train_2=HH2[:,k1,k2]\n",
    "        y_train_0=YY[:]\n",
    "        y_train_1=YY[:]\n",
    "        y_train_2=YY[:]\n",
    "        \n",
    "        all_acc0=[]\n",
    "        if entry_type == -1 or entry_type == 0:\n",
    "            print(\"---\"+str(repeat)+\" Iterations of 10-fold CV---\")\n",
    "            for _ in range(repeat):\n",
    "                if grid_check:\n",
    "                    mean_acc0=classifier_model(x_train_0, y_train_0, skf, n_jobs, cv, params)\n",
    "                else:\n",
    "                    mean_acc0=prelim_classifier_model(x_train_0, y_train_0, skf, n_jobs, params)\n",
    "                print(mean_acc0)\n",
    "                all_acc0.append(mean_acc0)\n",
    "            print(\"---Results---\")\n",
    "            print('H0',np.mean(all_acc0),np.std(all_acc0))\n",
    "            if feature_check and entry_type == 0 and embed_type == 2:\n",
    "                mean_acc0=classifier_model_feature(name, entry_type, x_train_0, y_train_0, skf, n_jobs, cv, params)\n",
    "        \n",
    "        all_acc1=[]     \n",
    "        if entry_type == -1 or entry_type == 1:\n",
    "            print(\"---\"+str(repeat)+\" Iterations of 10-fold CV---\")\n",
    "            for _ in range(repeat):\n",
    "                if grid_check:\n",
    "                    mean_acc1=classifier_model(x_train_1, y_train_1, skf,n_jobs, cv, params)\n",
    "                else:\n",
    "                    mean_acc1=prelim_classifier_model(x_train_1, y_train_1, skf, n_jobs, params)\n",
    "                print(mean_acc1)\n",
    "                all_acc1.append(mean_acc1)    \n",
    "            print(\"---Results---\")\n",
    "            print('H1',np.mean(all_acc1),np.std(all_acc1)) \n",
    "            if feature_check and entry_type == 1 and embed_type == 2:\n",
    "                mean_acc1=classifier_model_feature(name, entry_type, x_train_1, y_train_1, skf, n_jobs, cv, params)\n",
    "        \n",
    "        all_acc2=[] \n",
    "        if entry_type == -1 or entry_type == 2:\n",
    "            print(\"---\"+str(repeat)+\" Iterations of 10-fold CV---\")\n",
    "            for _ in range(repeat):\n",
    "                if grid_check:\n",
    "                    mean_acc2=classifier_model(x_train_2, y_train_2, skf,n_jobs, cv, params)\n",
    "                else:\n",
    "                    mean_acc2=prelim_classifier_model(x_train_2, y_train_2, skf, n_jobs, params)\n",
    "                print(mean_acc2)\n",
    "                all_acc2.append(mean_acc2)    \n",
    "            print(\"---Results---\")\n",
    "            print('H0+H1',np.mean(all_acc2),np.std(all_acc2))\n",
    "        \n",
    "        ALL_ACC0.append(all_acc0)\n",
    "        ALL_ACC1.append(all_acc1)\n",
    "        ALL_ACC2.append(all_acc2)\n",
    "\n",
    "    return ALL_ACC0,ALL_ACC1,ALL_ACC2 #, information_0, information_1, information_2"
   ]
  },
  {
   "cell_type": "markdown",
   "metadata": {},
   "source": [
    "# Results"
   ]
  },
  {
   "cell_type": "markdown",
   "metadata": {},
   "source": [
    "### MUTAG - PWLR"
   ]
  },
  {
   "cell_type": "code",
   "execution_count": 5,
   "metadata": {},
   "outputs": [
    {
     "name": "stdout",
     "output_type": "stream",
     "text": [
      " 1 and 12\n",
      "---10 Iterations of 10-fold CV---\n",
      "0.8992397660818714\n",
      "0.8883918128654971\n",
      "0.8873099415204677\n",
      "0.8937134502923977\n",
      "0.8803216374269006\n",
      "0.9100584795321638\n",
      "0.8884210526315789\n",
      "0.895029239766082\n",
      "0.9064327485380117\n",
      "0.9033918128654973\n",
      "---Results---\n",
      "H0 0.8952309941520469 0.008991819502252188\n"
     ]
    }
   ],
   "source": [
    "name = \"MUTAG\"\n",
    "data_type='Discrete'\n",
    "embed_type=1 #PWLR representation\n",
    "entry_type=0 #PWLR-H0 representation\n",
    "n_estimator_list = [10,25,50,100,150,200] #RF n_estimators\n",
    "max_depth_list = [None]\n",
    "parameter_list = [(1,12)] #values of k1 and k2\n",
    "repeat_num=10 #number of iterations of 10-fold CV\n",
    "grid_type = True #classification result obtained from grid search\n",
    "feature_type = False #feature importance obtained from RF displayed (only applicable to embed_type=2 & entry_type=0,1)\n",
    "\n",
    "result0, result1, result2 = grid_search_graph(name, entry_type, parameter_list, repeat_num, n_estimator_list, max_depth_list,data_type=data_type,embed_type=embed_type, grid_check=grid_type, feature_check=feature_type)"
   ]
  },
  {
   "cell_type": "code",
   "execution_count": 6,
   "metadata": {},
   "outputs": [
    {
     "name": "stdout",
     "output_type": "stream",
     "text": [
      " 26 and 27\n",
      "---10 Iterations of 10-fold CV---\n",
      "0.9153801169590643\n",
      "0.9209064327485381\n",
      "0.9047953216374269\n",
      "0.9042690058479532\n",
      "0.9239181286549709\n",
      "0.9303216374269005\n",
      "0.9311403508771929\n",
      "0.9155847953216375\n",
      "0.9217251461988305\n",
      "0.9289181286549706\n",
      "---Results---\n",
      "H1 0.9196959064327487 0.009208067990877299\n"
     ]
    }
   ],
   "source": [
    "name = \"MUTAG\"\n",
    "data_type='Discrete'\n",
    "embed_type=1 #PWLR representation\n",
    "entry_type=1 #PWLR-H1 representation\n",
    "n_estimator_list = [10,25,50,100,150,200] #RF n_estimators\n",
    "max_depth_list = [None]\n",
    "parameter_list = [(26,27)] #values of k1 and k2\n",
    "repeat_num=10 #number of iterations of 10-fold CV\n",
    "grid_type = True #classification result obtained from grid search\n",
    "feature_type = False #feature importance obtained from RF displayed (only applicable to embed_type=2 & entry_type=0,1)\n",
    "\n",
    "result0, result1, result2 = grid_search_graph(name, entry_type, parameter_list, repeat_num, n_estimator_list, max_depth_list,data_type=data_type,embed_type=embed_type, grid_check=grid_type, feature_check=feature_type)"
   ]
  },
  {
   "cell_type": "code",
   "execution_count": 7,
   "metadata": {},
   "outputs": [
    {
     "name": "stdout",
     "output_type": "stream",
     "text": [
      " 8 and 11\n",
      "---10 Iterations of 10-fold CV---\n",
      "0.9100877192982457\n",
      "0.8997953216374268\n",
      "0.8611988304093566\n",
      "0.8937134502923977\n",
      "0.8966959064327487\n",
      "0.898684210526316\n",
      "0.8723099415204679\n",
      "0.900029239766082\n",
      "0.9117251461988305\n",
      "0.9028362573099414\n",
      "---Results---\n",
      "H0+H1 0.8947076023391813 0.01513827153744482\n"
     ]
    }
   ],
   "source": [
    "name = \"MUTAG\"\n",
    "data_type='Discrete'\n",
    "embed_type=1 #PWLR representation\n",
    "entry_type=2 #PWLR-H0+H1 representation\n",
    "n_estimator_list = [10,25,50,100,150,200] #RF n_estimators\n",
    "max_depth_list = [None]\n",
    "parameter_list = [(8,11)] #values of k1 and k2\n",
    "repeat_num=10 #number of iterations of 10-fold CV\n",
    "grid_type = True #classification result obtained from grid search\n",
    "feature_type = False #feature importance obtained from RF displayed (only applicable to embed_type=2 & entry_type=0,1)\n",
    "\n",
    "result0, result1, result2 = grid_search_graph(name, entry_type, parameter_list, repeat_num, n_estimator_list, max_depth_list,data_type=data_type,embed_type=embed_type, grid_check=grid_type, feature_check=feature_type)"
   ]
  },
  {
   "cell_type": "markdown",
   "metadata": {},
   "source": [
    "### MUTAG - PWLR-OPT"
   ]
  },
  {
   "cell_type": "code",
   "execution_count": 8,
   "metadata": {},
   "outputs": [
    {
     "name": "stdout",
     "output_type": "stream",
     "text": [
      " 1 and 1\n",
      "---10 Iterations of 10-fold CV---\n",
      "0.8939766081871345\n",
      "0.8878070175438598\n",
      "0.9078362573099416\n",
      "0.8887134502923978\n",
      "0.9083333333333334\n",
      "0.8761695906432749\n",
      "0.9042397660818713\n",
      "0.8989181286549709\n",
      "0.8992105263157895\n",
      "0.9081286549707602\n",
      "---Results---\n",
      "H0 0.8973333333333334 0.010128224468519445\n",
      "---Feature Importance---\n",
      "['(1, 2)', 0.038033491049206426]\n",
      "['(1, 3)', 0.11146833814048915]\n",
      "['(1, 4)', 0.0]\n",
      "['(2, 2)', 0.1718711511818212]\n",
      "['(2, 3)', 0.18684952777251734]\n",
      "['(3, 3)', 0.4917774918559658]\n",
      "['(3, 4)', 0.0]\n"
     ]
    },
    {
     "data": {
      "image/png": "[encoded data removed]",
      "text/plain": [
       "<Figure size 252x126 with 1 Axes>"
      ]
     },
     "metadata": {
      "needs_background": "light"
     },
     "output_type": "display_data"
    }
   ],
   "source": [
    "name = \"MUTAG\"\n",
    "data_type='Discrete'\n",
    "embed_type=2 #PWLR-OPT representation\n",
    "entry_type=0 #PWLR-OPT-H0 representation\n",
    "n_estimator_list = [10,25,50,100,150,200] #RF n_estimators\n",
    "max_depth_list = [None]\n",
    "parameter_list = [(1,1)] #values of k1 and k2\n",
    "repeat_num=10 #number of iterations of 10-fold CV\n",
    "grid_type = True #classification result obtained from grid search\n",
    "feature_type = True #feature importance obtained from RF displayed (only applicable to embed_type=2 & entry_type=0,1)\n",
    "\n",
    "result0, result1, result2 = grid_search_graph(name, entry_type, parameter_list, repeat_num, n_estimator_list, max_depth_list,data_type=data_type,embed_type=embed_type, grid_check=grid_type, feature_check=feature_type)"
   ]
  },
  {
   "cell_type": "code",
   "execution_count": 9,
   "metadata": {},
   "outputs": [
    {
     "name": "stdout",
     "output_type": "stream",
     "text": [
      " 16 and 27\n",
      "---10 Iterations of 10-fold CV---\n",
      "0.9264912280701754\n",
      "0.9314327485380117\n",
      "0.8826023391812864\n",
      "0.9089473684210526\n",
      "0.9039181286549708\n",
      "0.9197953216374269\n",
      "0.9302923976608188\n",
      "0.9150292397660819\n",
      "0.9375438596491229\n",
      "0.9344736842105263\n",
      "---Results---\n",
      "H1 0.9190526315789475 0.016097202686764327\n",
      "---Feature Importance---\n",
      "['(1, 2)', 0.0]\n",
      "['(1, 3)', 0.0]\n",
      "['(1, 4)', 0.0]\n",
      "['(2, 2)', 0.0]\n",
      "['(2, 3)', 0.926582549757418]\n",
      "['(3, 3)', 0.07341745024258198]\n",
      "['(3, 4)', 0.0]\n"
     ]
    },
    {
     "data": {
      "image/png": "[encoded data removed]",
      "text/plain": [
       "<Figure size 252x126 with 1 Axes>"
      ]
     },
     "metadata": {
      "needs_background": "light"
     },
     "output_type": "display_data"
    }
   ],
   "source": [
    "name = \"MUTAG\"\n",
    "data_type='Discrete'\n",
    "embed_type=2 #PWLR-OPT representation\n",
    "entry_type=1 #PWLR-OPT-H1 representation\n",
    "n_estimator_list = [10,25,50,100,150,200] #RF n_estimators\n",
    "max_depth_list = [None]\n",
    "parameter_list = [(16,27)] #values of k1 and k2\n",
    "repeat_num=10 #number of iterations of 10-fold CV\n",
    "grid_type = True #classification result obtained from grid search\n",
    "feature_type = True #feature importance obtained from RF displayed (only applicable to embed_type=2 & entry_type=0,1)\n",
    "\n",
    "result0, result1, result2 = grid_search_graph(name, entry_type, parameter_list, repeat_num, n_estimator_list, max_depth_list,data_type=data_type,embed_type=embed_type, grid_check=grid_type, feature_check=feature_type)"
   ]
  },
  {
   "cell_type": "code",
   "execution_count": 10,
   "metadata": {},
   "outputs": [
    {
     "name": "stdout",
     "output_type": "stream",
     "text": [
      " 1 and 1\n",
      "---10 Iterations of 10-fold CV---\n",
      "0.8779239766081872\n",
      "0.8930994152046784\n",
      "0.9039473684210527\n",
      "0.8784502923976609\n",
      "0.8875438596491227\n",
      "0.892543859649123\n",
      "0.8936842105263159\n",
      "0.9044736842105264\n",
      "0.8942397660818713\n",
      "0.8914619883040936\n",
      "---Results---\n",
      "H0+H1 0.8917368421052633 0.008419460538257496\n"
     ]
    }
   ],
   "source": [
    "name = \"MUTAG\"\n",
    "data_type='Discrete'\n",
    "embed_type=2 #PWLR-OPT representation\n",
    "entry_type=2 #PWLR-OPT-H0+H1 representation\n",
    "n_estimator_list = [10,25,50,100,150,200] #RF n_estimators\n",
    "max_depth_list = [None]\n",
    "parameter_list = [(1,1)] #values of k1 and k2\n",
    "repeat_num=10 #number of iterations of 10-fold CV\n",
    "grid_type = True #classification result obtained from grid search\n",
    "feature_type = False #feature importance obtained from RF displayed (only applicable to embed_type=2 & entry_type=0,1)\n",
    "\n",
    "result0, result1, result2 = grid_search_graph(name, entry_type, parameter_list, repeat_num, n_estimator_list, max_depth_list,data_type=data_type,embed_type=embed_type, grid_check=grid_type, feature_check=feature_type)"
   ]
  },
  {
   "cell_type": "markdown",
   "metadata": {},
   "source": [
    "# PTC_FR"
   ]
  },
  {
   "cell_type": "markdown",
   "metadata": {},
   "source": [
    "### PTC_FR PWLR"
   ]
  },
  {
   "cell_type": "code",
   "execution_count": 12,
   "metadata": {},
   "outputs": [
    {
     "name": "stdout",
     "output_type": "stream",
     "text": [
      " 22 and 8\n",
      "---10 Iterations of 10-fold CV---\n",
      "0.6863492063492064\n",
      "0.6725396825396825\n",
      "0.680952380952381\n",
      "0.7008730158730159\n",
      "0.6987301587301588\n",
      "0.7122222222222222\n",
      "0.6807936507936507\n",
      "0.6838095238095238\n",
      "0.7007936507936509\n",
      "0.6949206349206349\n",
      "---Results---\n",
      "H0 0.6911984126984126 0.011566106403381448\n"
     ]
    }
   ],
   "source": [
    "name = \"PTC_FR\"\n",
    "data_type='Discrete'\n",
    "embed_type=1 #PWLR representation\n",
    "entry_type=0 #PWLR-H0 representation\n",
    "n_estimator_list = [10,25,50,100,150,200] #RF n_estimators\n",
    "max_depth_list = [None]\n",
    "parameter_list = [(22,8)] #values of k1 and k2\n",
    "repeat_num=10 #number of iterations of 10-fold CV\n",
    "grid_type = True #classification result obtained from grid search\n",
    "feature_type = False #feature importance obtained from RF displayed (only applicable to embed_type=2 & entry_type=0,1)\n",
    "\n",
    "result0, result1, result2 = grid_search_graph(name, entry_type, parameter_list, repeat_num, n_estimator_list, max_depth_list,data_type=data_type,embed_type=embed_type, grid_check=grid_type, feature_check=feature_type)"
   ]
  },
  {
   "cell_type": "code",
   "execution_count": 13,
   "metadata": {},
   "outputs": [
    {
     "name": "stdout",
     "output_type": "stream",
     "text": [
      " 0 and 0\n",
      "---10 Iterations of 10-fold CV---\n",
      "0.6666666666666666\n",
      "0.6665079365079365\n",
      "0.6695238095238096\n",
      "0.6726190476190476\n",
      "0.6554761904761905\n",
      "0.6780158730158731\n",
      "0.680952380952381\n",
      "0.6751587301587302\n",
      "0.6694444444444444\n",
      "0.6696031746031746\n",
      "---Results---\n",
      "H1 0.6703968253968254 0.006715992878395236\n"
     ]
    }
   ],
   "source": [
    "name = \"PTC_FR\"\n",
    "data_type='Discrete'\n",
    "embed_type=1 #PWLR representation\n",
    "entry_type=1 #PWLR-H1 representation\n",
    "n_estimator_list = [10,25,50,100,150,200] #RF n_estimators\n",
    "max_depth_list = [None]\n",
    "parameter_list = [(0,0)] #values of k1 and k2\n",
    "repeat_num=10 #number of iterations of 10-fold CV\n",
    "grid_type = True #classification result obtained from grid search\n",
    "feature_type = False #feature importance obtained from RF displayed (only applicable to embed_type=2 & entry_type=0,1)\n",
    "\n",
    "result0, result1, result2 = grid_search_graph(name, entry_type, parameter_list, repeat_num, n_estimator_list, max_depth_list,data_type=data_type,embed_type=embed_type, grid_check=grid_type, feature_check=feature_type)"
   ]
  },
  {
   "cell_type": "code",
   "execution_count": 19,
   "metadata": {},
   "outputs": [
    {
     "name": "stdout",
     "output_type": "stream",
     "text": [
      " 1 and 14\n",
      "---10 Iterations of 10-fold CV---\n",
      "0.697936507936508\n",
      "0.6865873015873015\n",
      "0.7064285714285715\n",
      "0.7064285714285714\n",
      "0.6986507936507937\n",
      "0.6723015873015873\n",
      "0.6638095238095238\n",
      "0.6838888888888889\n",
      "0.6838095238095238\n",
      "0.6749206349206349\n",
      "---Results---\n",
      "H0+H1 0.6874761904761906 0.013884525391653628\n"
     ]
    }
   ],
   "source": [
    "name = \"PTC_FR\"\n",
    "data_type='Discrete'\n",
    "embed_type=1 #PWLR representation\n",
    "entry_type=2 #PWLR-H0+H1 representation\n",
    "n_estimator_list = [10,25,50,100,150,200] #RF n_estimators\n",
    "max_depth_list = [None]\n",
    "parameter_list = [(1,14)] #values of k1 and k2\n",
    "repeat_num=10 #number of iterations of 10-fold CV\n",
    "grid_type = True #classification result obtained from grid search\n",
    "feature_type = False #feature importance obtained from RF displayed (only applicable to embed_type=2 & entry_type=0,1)\n",
    "\n",
    "result0, result1, result2 = grid_search_graph(name, entry_type, parameter_list, repeat_num, n_estimator_list, max_depth_list,data_type=data_type,embed_type=embed_type, grid_check=grid_type, feature_check=feature_type)"
   ]
  },
  {
   "cell_type": "markdown",
   "metadata": {},
   "source": [
    "### PTC_FR PWLR-OPT"
   ]
  },
  {
   "cell_type": "code",
   "execution_count": 16,
   "metadata": {},
   "outputs": [
    {
     "name": "stdout",
     "output_type": "stream",
     "text": [
      " 0 and 6\n",
      "---10 Iterations of 10-fold CV---\n",
      "0.6296825396825396\n",
      "0.6552380952380952\n",
      "0.6580158730158729\n",
      "0.6438095238095238\n",
      "0.6303174603174604\n",
      "0.6267460317460317\n",
      "0.6353968253968253\n",
      "0.643888888888889\n",
      "0.6407936507936508\n",
      "0.6380952380952382\n",
      "---Results---\n",
      "H0 0.6401984126984127 0.009936447715218889\n",
      "---Feature Importance---\n",
      "['(1, 1)', 0.0]\n",
      "['(1, 2)', 0.13148398799383504]\n",
      "['(1, 3)', 0.20517327104872607]\n",
      "['(1, 4)', 0.06924545464900951]\n",
      "['(2, 2)', 0.18237830246506195]\n",
      "['(2, 3)', 0.18897973626080963]\n",
      "['(2, 4)', 0.024417579504412562]\n",
      "['(3, 3)', 0.16579023918148553]\n",
      "['(3, 4)', 0.019206120538993697]\n",
      "['(4, 4)', 0.013325308357665907]\n"
     ]
    },
    {
     "data": {
      "image/png": "[encoded data removed]",
      "text/plain": [
       "<Figure size 360x180 with 1 Axes>"
      ]
     },
     "metadata": {
      "needs_background": "light"
     },
     "output_type": "display_data"
    }
   ],
   "source": [
    "name = \"PTC_FR\"\n",
    "data_type='Discrete'\n",
    "embed_type=2 #PWLR-OPT representation\n",
    "entry_type=0 #PWLR-OPT-H0 representation\n",
    "n_estimator_list = [10,25,50,100,150,200] #RF n_estimators\n",
    "max_depth_list = [None]\n",
    "parameter_list = [(0,6)] #values of k1 and k2\n",
    "repeat_num=10 #number of iterations of 10-fold CV\n",
    "grid_type = True #classification result obtained from grid search\n",
    "feature_type = True #feature importance obtained from RF displayed (only applicable to embed_type=2 & entry_type=0,1)\n",
    "\n",
    "result0, result1, result2 = grid_search_graph(name, entry_type, parameter_list, repeat_num, n_estimator_list, max_depth_list,data_type=data_type,embed_type=embed_type, grid_check=grid_type, feature_check=feature_type)"
   ]
  },
  {
   "cell_type": "code",
   "execution_count": 15,
   "metadata": {},
   "outputs": [
    {
     "name": "stdout",
     "output_type": "stream",
     "text": [
      " 10 and 2\n",
      "---10 Iterations of 10-fold CV---\n",
      "0.6528571428571428\n",
      "0.6525396825396824\n",
      "0.6523809523809523\n",
      "0.6723015873015873\n",
      "0.6696031746031745\n",
      "0.6723809523809524\n",
      "0.6753968253968254\n",
      "0.6695238095238094\n",
      "0.6665873015873016\n",
      "0.6353174603174604\n",
      "---Results---\n",
      "H1 0.6618888888888887 0.01227302367402999\n",
      "---Feature Importance---\n",
      "['(1, 1)', 0.0]\n",
      "['(1, 2)', 0.0]\n",
      "['(1, 3)', 0.0]\n",
      "['(1, 4)', 0.0]\n",
      "['(2, 2)', 0.01971726101628929]\n",
      "['(2, 3)', 0.7736542797773074]\n",
      "['(2, 4)', 0.0504318200112961]\n",
      "['(3, 3)', 0.11922725748565441]\n",
      "['(3, 4)', 0.021672952027309907]\n",
      "['(4, 4)', 0.01529642968214277]\n"
     ]
    },
    {
     "data": {
      "image/png": "[encoded data removed]",
      "text/plain": [
       "<Figure size 360x180 with 1 Axes>"
      ]
     },
     "metadata": {
      "needs_background": "light"
     },
     "output_type": "display_data"
    }
   ],
   "source": [
    "name = \"PTC_FR\"\n",
    "data_type='Discrete'\n",
    "embed_type=2 #PWLR-OPT representation\n",
    "entry_type=1 #PWLR-OPT-H1 representation\n",
    "n_estimator_list = [10,25,50,100,150,200] #RF n_estimators\n",
    "max_depth_list = [None]\n",
    "parameter_list = [(10,2)] #values of k1 and k2\n",
    "repeat_num=10 #number of iterations of 10-fold CV\n",
    "grid_type = True #classification result obtained from grid search\n",
    "feature_type = True #feature importance obtained from RF displayed (only applicable to embed_type=2 & entry_type=0,1)\n",
    "\n",
    "result0, result1, result2 = grid_search_graph(name, entry_type, parameter_list, repeat_num, n_estimator_list, max_depth_list,data_type=data_type,embed_type=embed_type, grid_check=grid_type, feature_check=feature_type)"
   ]
  },
  {
   "cell_type": "code",
   "execution_count": 17,
   "metadata": {},
   "outputs": [
    {
     "name": "stdout",
     "output_type": "stream",
     "text": [
      " 16 and 2\n",
      "---10 Iterations of 10-fold CV---\n",
      "0.6554761904761904\n",
      "0.661031746031746\n",
      "0.6496031746031746\n",
      "0.663968253968254\n",
      "0.6643650793650793\n",
      "0.6667460317460318\n",
      "0.6353174603174603\n",
      "0.6438095238095237\n",
      "0.6778571428571429\n",
      "0.6551587301587302\n",
      "---Results---\n",
      "H0+H1 0.6573333333333332 0.011629689809242954\n"
     ]
    }
   ],
   "source": [
    "name = \"PTC_FR\"\n",
    "data_type='Discrete'\n",
    "embed_type=2 #PWLR-OPT representation\n",
    "entry_type=2 #PWLR-OPT-H0+H1 representation\n",
    "n_estimator_list = [10,25,50,100,150,200] #RF n_estimators\n",
    "max_depth_list = [None]\n",
    "parameter_list = [(16,2)] #values of k1 and k2\n",
    "repeat_num=10 #number of iterations of 10-fold CV\n",
    "grid_type = True #classification result obtained from grid search\n",
    "feature_type = False #feature importance obtained from RF displayed (only applicable to embed_type=2 & entry_type=0,1)\n",
    "\n",
    "result0, result1, result2 = grid_search_graph(name, entry_type, parameter_list, repeat_num, n_estimator_list, max_depth_list,data_type=data_type,embed_type=embed_type, grid_check=grid_type, feature_check=feature_type)"
   ]
  },
  {
   "cell_type": "markdown",
   "metadata": {},
   "source": [
    "# BZR (Discrete)"
   ]
  },
  {
   "cell_type": "markdown",
   "metadata": {},
   "source": [
    "### BZR PWLR"
   ]
  },
  {
   "cell_type": "code",
   "execution_count": 20,
   "metadata": {},
   "outputs": [
    {
     "name": "stdout",
     "output_type": "stream",
     "text": [
      " 4 and 1\n",
      "---10 Iterations of 10-fold CV---\n",
      "0.8962038774233896\n",
      "0.9014509068167605\n",
      "0.8987007504690432\n",
      "0.90114602876798\n",
      "0.8919449656035022\n",
      "0.8911491557223264\n",
      "0.8933958724202627\n",
      "0.8938961851156974\n",
      "0.8966432145090681\n",
      "0.8741307066916824\n",
      "---Results---\n",
      "H0 0.8938661663539712 0.00740174562119186\n"
     ]
    }
   ],
   "source": [
    "name = \"BZR\"\n",
    "data_type='Discrete'\n",
    "embed_type=1 #PWLR representation\n",
    "entry_type=0 #PWLR-H0 representation\n",
    "n_estimator_list = [10,25,50,100,150,200] #RF n_estimators\n",
    "max_depth_list = [None]\n",
    "parameter_list = [(4,1)] #values of k1 and k2\n",
    "repeat_num=10 #number of iterations of 10-fold CV\n",
    "grid_type = True #classification result obtained from grid search\n",
    "feature_type = False #feature importance obtained from RF displayed (only applicable to embed_type=2 & entry_type=0,1)\n",
    "\n",
    "result0, result1, result2 = grid_search_graph(name, entry_type, parameter_list, repeat_num, n_estimator_list, max_depth_list,data_type=data_type,embed_type=embed_type, grid_check=grid_type, feature_check=feature_type)"
   ]
  },
  {
   "cell_type": "code",
   "execution_count": 21,
   "metadata": {},
   "outputs": [
    {
     "name": "stdout",
     "output_type": "stream",
     "text": [
      " 3 and 4\n",
      "---10 Iterations of 10-fold CV---\n",
      "0.8888899312070043\n",
      "0.9039540337711068\n",
      "0.8836976235146967\n",
      "0.8985819262038774\n",
      "0.8988930581613509\n",
      "0.8962070043777361\n",
      "0.8936429018136336\n",
      "0.8915791119449656\n",
      "0.8917041901188243\n",
      "0.8815118824265165\n",
      "---Results---\n",
      "H1 0.8928661663539714 0.006599225266064187\n"
     ]
    }
   ],
   "source": [
    "name = \"BZR\"\n",
    "data_type='Discrete'\n",
    "embed_type=1 #PWLR representation\n",
    "entry_type=1 #PWLR-H1 representation\n",
    "n_estimator_list = [10,25,50,100,150,200] #RF n_estimators\n",
    "max_depth_list = [None]\n",
    "parameter_list = [(3,4)] #values of k1 and k2\n",
    "repeat_num=10 #number of iterations of 10-fold CV\n",
    "grid_type = True #classification result obtained from grid search\n",
    "feature_type = False #feature importance obtained from RF displayed (only applicable to embed_type=2 & entry_type=0,1)\n",
    "\n",
    "result0, result1, result2 = grid_search_graph(name, entry_type, parameter_list, repeat_num, n_estimator_list, max_depth_list,data_type=data_type,embed_type=embed_type, grid_check=grid_type, feature_check=feature_type)"
   ]
  },
  {
   "cell_type": "code",
   "execution_count": 22,
   "metadata": {},
   "outputs": [
    {
     "name": "stdout",
     "output_type": "stream",
     "text": [
      " 6 and 1\n",
      "---10 Iterations of 10-fold CV---\n",
      "0.8863868042526579\n",
      "0.8915728580362728\n",
      "0.9011397748592872\n",
      "0.8938289555972483\n",
      "0.9041400875547219\n",
      "0.8861460287679799\n",
      "0.873947779862414\n",
      "0.8890791119449656\n",
      "0.8768167604752971\n",
      "0.8914509068167605\n",
      "---Results---\n",
      "H0+H1 0.8894509068167606 0.008947007482828324\n"
     ]
    }
   ],
   "source": [
    "name = \"BZR\"\n",
    "data_type='Discrete'\n",
    "embed_type=1 #PWLR representation\n",
    "entry_type=2 #PWLR-H0+H1 representation\n",
    "n_estimator_list = [10,25,50,100,150,200] #RF n_estimators\n",
    "max_depth_list = [None]\n",
    "parameter_list = [(6,1)] #values of k1 and k2\n",
    "repeat_num=10 #number of iterations of 10-fold CV\n",
    "grid_type = True #classification result obtained from grid search\n",
    "feature_type = False #feature importance obtained from RF displayed (only applicable to embed_type=2 & entry_type=0,1)\n",
    "\n",
    "result0, result1, result2 = grid_search_graph(name, entry_type, parameter_list, repeat_num, n_estimator_list, max_depth_list,data_type=data_type,embed_type=embed_type, grid_check=grid_type, feature_check=feature_type)"
   ]
  },
  {
   "cell_type": "markdown",
   "metadata": {},
   "source": [
    "### BZR PWLR-OPT"
   ]
  },
  {
   "cell_type": "code",
   "execution_count": 23,
   "metadata": {},
   "outputs": [
    {
     "name": "stdout",
     "output_type": "stream",
     "text": [
      " 2 and 15\n",
      "---10 Iterations of 10-fold CV---\n",
      "0.8912617260787993\n",
      "0.8939477798624141\n",
      "0.8887007504690432\n",
      "0.8884537210756724\n",
      "0.89682301438399\n",
      "0.8888961851156972\n",
      "0.9033958724202626\n",
      "0.9015181363352095\n",
      "0.9012038774233895\n",
      "0.8915759849906191\n",
      "---Results---\n",
      "H0 0.8945777048155096 0.005473586810716278\n",
      "---Feature Importance---\n",
      "['(1, 2)', 0.023303433665172107]\n",
      "['(1, 3)', 0.1557621130425596]\n",
      "['(1, 4)', 0.07981152964769904]\n",
      "['(2, 2)', 0.002772058654245942]\n",
      "['(2, 3)', 0.11459223810053053]\n",
      "['(2, 4)', 0.04452007234245443]\n",
      "['(3, 3)', 0.32529955202472416]\n",
      "['(3, 4)', 0.20215240222934236]\n",
      "['(4, 4)', 0.05178660029327203]\n"
     ]
    },
    {
     "data": {
      "image/png": "[encoded data removed]",
      "text/plain": [
       "<Figure size 324x162 with 1 Axes>"
      ]
     },
     "metadata": {
      "needs_background": "light"
     },
     "output_type": "display_data"
    }
   ],
   "source": [
    "name = \"BZR\"\n",
    "data_type='Discrete'\n",
    "embed_type=2 #PWLR-OPT representation\n",
    "entry_type=0 #PWLR-OPT-H0 representation\n",
    "n_estimator_list = [10,25,50,100,150,200] #RF n_estimators\n",
    "max_depth_list = [None]\n",
    "parameter_list = [(2,15)] #values of k1 and k2\n",
    "repeat_num=10 #number of iterations of 10-fold CV\n",
    "grid_type = True #classification result obtained from grid search\n",
    "feature_type = True #feature importance obtained from RF displayed (only applicable to embed_type=2 & entry_type=0,1)\n",
    "\n",
    "result0, result1, result2 = grid_search_graph(name, entry_type, parameter_list, repeat_num, n_estimator_list, max_depth_list,data_type=data_type,embed_type=embed_type, grid_check=grid_type, feature_check=feature_type)"
   ]
  },
  {
   "cell_type": "code",
   "execution_count": 24,
   "metadata": {},
   "outputs": [
    {
     "name": "stdout",
     "output_type": "stream",
     "text": [
      " 2 and 0\n",
      "---10 Iterations of 10-fold CV---\n",
      "0.901393058161351\n",
      "0.8890697310819263\n",
      "0.8986429018136335\n",
      "0.8885756722951845\n",
      "0.9013258286429018\n",
      "0.883707004377736\n",
      "0.8785756722951845\n",
      "0.8860178236397749\n",
      "0.8818871169480925\n",
      "0.8841979362101314\n",
      "---Results---\n",
      "H1 0.8893392745465917 0.007853419958894645\n",
      "---Feature Importance---\n",
      "['(1, 2)', 0.0]\n",
      "['(1, 3)', 0.0]\n",
      "['(1, 4)', 0.0]\n",
      "['(2, 2)', 0.0]\n",
      "['(2, 3)', 0.24074101303862666]\n",
      "['(2, 4)', 0.008247990260761838]\n",
      "['(3, 3)', 0.5016612458041424]\n",
      "['(3, 4)', 0.2433776072031631]\n",
      "['(4, 4)', 0.005972143693306016]\n"
     ]
    },
    {
     "data": {
      "image/png": "[encoded data removed]",
      "text/plain": [
       "<Figure size 324x162 with 1 Axes>"
      ]
     },
     "metadata": {
      "needs_background": "light"
     },
     "output_type": "display_data"
    }
   ],
   "source": [
    "name = \"BZR\"\n",
    "data_type='Discrete'\n",
    "embed_type=2 #PWLR-OPT representation\n",
    "entry_type=1 #PWLR-OPT-H1 representation\n",
    "n_estimator_list = [10,25,50,100,150,200] #RF n_estimators\n",
    "max_depth_list = [None]\n",
    "parameter_list = [(2,0)] #values of k1 and k2\n",
    "repeat_num=10 #number of iterations of 10-fold CV\n",
    "grid_type = True #classification result obtained from grid search\n",
    "feature_type = True #feature importance obtained from RF displayed (only applicable to embed_type=2 & entry_type=0,1)\n",
    "\n",
    "result0, result1, result2 = grid_search_graph(name, entry_type, parameter_list, repeat_num, n_estimator_list, max_depth_list,data_type=data_type,embed_type=embed_type, grid_check=grid_type, feature_check=feature_type)"
   ]
  },
  {
   "cell_type": "code",
   "execution_count": 25,
   "metadata": {},
   "outputs": [
    {
     "name": "stdout",
     "output_type": "stream",
     "text": [
      " 11 and 3\n",
      "---10 Iterations of 10-fold CV---\n",
      "0.876380550343965\n",
      "0.8941979362101314\n",
      "0.8838836772983114\n",
      "0.9034568480300189\n",
      "0.8844418386491556\n",
      "0.8986522826766729\n",
      "0.8988930581613509\n",
      "0.9015181363352095\n",
      "0.8938289555972483\n",
      "0.8962679799874922\n",
      "---Results---\n",
      "H0+H1 0.8931521263289556 0.008328906356904767\n"
     ]
    }
   ],
   "source": [
    "name = \"BZR\"\n",
    "data_type='Discrete'\n",
    "embed_type=2 #PWLR-OPT representation\n",
    "entry_type=2 #PWLR-OPT-H0+H1 representation\n",
    "n_estimator_list = [10,25,50,100,150,200] #RF n_estimators\n",
    "max_depth_list = [None]\n",
    "parameter_list = [(11,3)] #values of k1 and k2\n",
    "repeat_num=10 #number of iterations of 10-fold CV\n",
    "grid_type = True #classification result obtained from grid search\n",
    "feature_type = False #feature importance obtained from RF displayed (only applicable to embed_type=2 & entry_type=0,1)\n",
    "\n",
    "result0, result1, result2 = grid_search_graph(name, entry_type, parameter_list, repeat_num, n_estimator_list, max_depth_list,data_type=data_type,embed_type=embed_type, grid_check=grid_type, feature_check=feature_type)"
   ]
  },
  {
   "cell_type": "markdown",
   "metadata": {},
   "source": [
    "# BZR (Discrete & Continuous)"
   ]
  },
  {
   "cell_type": "markdown",
   "metadata": {},
   "source": [
    "### BZR PWLR"
   ]
  },
  {
   "cell_type": "code",
   "execution_count": 26,
   "metadata": {},
   "outputs": [
    {
     "name": "stdout",
     "output_type": "stream",
     "text": [
      " 25 and 1\n",
      "---10 Iterations of 10-fold CV---\n",
      "0.8790697310819263\n",
      "0.871749530956848\n",
      "0.8790697310819262\n",
      "0.8788227016885554\n",
      "0.8793808630393997\n",
      "0.8812038774233896\n",
      "0.8816948092557848\n",
      "0.8793261413383364\n",
      "0.8746247654784239\n",
      "0.8765056285178238\n",
      "---Results---\n",
      "H0 0.8781447779862415 0.0028815183083918377\n"
     ]
    }
   ],
   "source": [
    "name = \"BZR\"\n",
    "data_type='Continuous'\n",
    "embed_type=1 #PWLR representation\n",
    "entry_type=0 #PWLR-H0 representation\n",
    "n_estimator_list = [10,25,50,100,150,200] #RF n_estimators\n",
    "max_depth_list = [None]\n",
    "parameter_list = [(25,1)] #values of k1 and k2\n",
    "repeat_num=10 #number of iterations of 10-fold CV\n",
    "grid_type = True #classification result obtained from grid search\n",
    "feature_type = False #feature importance obtained from RF displayed (only applicable to embed_type=2 & entry_type=0,1)\n",
    "\n",
    "result0, result1, result2 = grid_search_graph(name, entry_type, parameter_list, repeat_num, n_estimator_list, max_depth_list,data_type=data_type,embed_type=embed_type, grid_check=grid_type, feature_check=feature_type)"
   ]
  },
  {
   "cell_type": "code",
   "execution_count": 27,
   "metadata": {},
   "outputs": [
    {
     "name": "stdout",
     "output_type": "stream",
     "text": [
      " 24 and 10\n",
      "---10 Iterations of 10-fold CV---\n",
      "0.8668777360850533\n",
      "0.8793167604752972\n",
      "0.8812585991244528\n",
      "0.8640056285178236\n",
      "0.8796216385240776\n",
      "0.8691307066916822\n",
      "0.8787617260787991\n",
      "0.8768839899937462\n",
      "0.8693808630393995\n",
      "0.8639383989993746\n",
      "---Results---\n",
      "H1 0.8729176047529705 0.0065477478922076745\n"
     ]
    }
   ],
   "source": [
    "name = \"BZR\"\n",
    "data_type='Continuous'\n",
    "embed_type=1 #PWLR representation\n",
    "entry_type=1 #PWLR-H1 representation\n",
    "n_estimator_list = [10,25,50,100,150,200] #RF n_estimators\n",
    "max_depth_list = [None]\n",
    "parameter_list = [(24,10)] #values of k1 and k2\n",
    "repeat_num=10 #number of iterations of 10-fold CV\n",
    "grid_type = True #classification result obtained from grid search\n",
    "feature_type = False #feature importance obtained from RF displayed (only applicable to embed_type=2 & entry_type=0,1)\n",
    "\n",
    "result0, result1, result2 = grid_search_graph(name, entry_type, parameter_list, repeat_num, n_estimator_list, max_depth_list,data_type=data_type,embed_type=embed_type, grid_check=grid_type, feature_check=feature_type)"
   ]
  },
  {
   "cell_type": "code",
   "execution_count": 28,
   "metadata": {},
   "outputs": [
    {
     "name": "stdout",
     "output_type": "stream",
     "text": [
      " 22 and 1\n",
      "---10 Iterations of 10-fold CV---\n",
      "0.8788836772983114\n",
      "0.8768136335209507\n",
      "0.886447779862414\n",
      "0.8863868042526578\n",
      "0.869624765478424\n",
      "0.8812679799874921\n",
      "0.8840728580362727\n",
      "0.8742651657285803\n",
      "0.8771278924327705\n",
      "0.871688555347092\n",
      "---Results---\n",
      "H0+H1 0.8786579111944965 0.00558400477468644\n"
     ]
    }
   ],
   "source": [
    "name = \"BZR\"\n",
    "data_type='Continuous'\n",
    "embed_type=1 #PWLR representation\n",
    "entry_type=2 #PWLR-H0+H1 representation\n",
    "n_estimator_list = [10,25,50,100,150,200] #RF n_estimators\n",
    "max_depth_list = [None]\n",
    "parameter_list = [(22,1)] #values of k1 and k2\n",
    "repeat_num=10 #number of iterations of 10-fold CV\n",
    "grid_type = True #classification result obtained from grid search\n",
    "feature_type = False #feature importance obtained from RF displayed (only applicable to embed_type=2 & entry_type=0,1)\n",
    "\n",
    "result0, result1, result2 = grid_search_graph(name, entry_type, parameter_list, repeat_num, n_estimator_list, max_depth_list,data_type=data_type,embed_type=embed_type, grid_check=grid_type, feature_check=feature_type)"
   ]
  },
  {
   "cell_type": "markdown",
   "metadata": {},
   "source": [
    "### BZR PWLR-OPT"
   ]
  },
  {
   "cell_type": "code",
   "execution_count": 29,
   "metadata": {},
   "outputs": [
    {
     "name": "stdout",
     "output_type": "stream",
     "text": [
      " 29 and 10\n",
      "---10 Iterations of 10-fold CV---\n",
      "0.8885178236397749\n",
      "0.89432301438399\n",
      "0.8865087554721702\n",
      "0.8812007504690431\n",
      "0.8841916823014383\n",
      "0.8815181363352096\n",
      "0.8763227016885553\n",
      "0.8841400875547217\n",
      "0.8793808630393997\n",
      "0.8791916823014384\n",
      "---Results---\n",
      "H0 0.8835295497185742 0.0049850280068141906\n",
      "---Feature Importance---\n",
      "['(1, 2)', 0.0297838086981188]\n",
      "['(1, 3)', 0.15216721786741225]\n",
      "['(1, 4)', 0.09772872442583687]\n",
      "['(2, 2)', 0.00759053599603623]\n",
      "['(2, 3)', 0.103627221912059]\n",
      "['(2, 4)', 0.03789808903309052]\n",
      "['(3, 3)', 0.28348661656183605]\n",
      "['(3, 4)', 0.23192236546024425]\n",
      "['(4, 4)', 0.0557954200453661]\n"
     ]
    },
    {
     "data": {
      "image/png": "[encoded data removed]",
      "text/plain": [
       "<Figure size 324x162 with 1 Axes>"
      ]
     },
     "metadata": {
      "needs_background": "light"
     },
     "output_type": "display_data"
    }
   ],
   "source": [
    "name = \"BZR\"\n",
    "data_type='Continuous'\n",
    "embed_type=2 #PWLR-OPT representation\n",
    "entry_type=0 #PWLR-OPT-H0 representation\n",
    "n_estimator_list = [10,25,50,100,150,200] #RF n_estimators\n",
    "max_depth_list = [None]\n",
    "parameter_list = [(29,10)] #values of k1 and k2\n",
    "repeat_num=10 #number of iterations of 10-fold CV\n",
    "grid_type = True #classification result obtained from grid search\n",
    "feature_type = True #feature importance obtained from RF displayed (only applicable to embed_type=2 & entry_type=0,1)\n",
    "\n",
    "result0, result1, result2 = grid_search_graph(name, entry_type, parameter_list, repeat_num, n_estimator_list, max_depth_list,data_type=data_type,embed_type=embed_type, grid_check=grid_type, feature_check=feature_type)"
   ]
  },
  {
   "cell_type": "code",
   "execution_count": 30,
   "metadata": {},
   "outputs": [
    {
     "name": "stdout",
     "output_type": "stream",
     "text": [
      " 16 and 18\n",
      "---10 Iterations of 10-fold CV---\n",
      "0.8565634771732332\n",
      "0.8644965603502189\n",
      "0.8740056285178237\n",
      "0.8638227016885553\n",
      "0.8790666041275799\n",
      "0.8713868042526579\n",
      "0.8591916823014383\n",
      "0.867063789868668\n",
      "0.8494387116948093\n",
      "0.8691885553470918\n",
      "---Results---\n",
      "H1 0.8654224515322075 0.008297500739368607\n",
      "---Feature Importance---\n",
      "['(1, 2)', 0.0]\n",
      "['(1, 3)', 0.0]\n",
      "['(1, 4)', 0.0]\n",
      "['(2, 2)', 0.0]\n",
      "['(2, 3)', 0.24637805971185536]\n",
      "['(2, 4)', 0.1323643551683098]\n",
      "['(3, 3)', 0.4263556995955149]\n",
      "['(3, 4)', 0.1925700128849491]\n",
      "['(4, 4)', 0.0023318726393708362]\n"
     ]
    },
    {
     "data": {
      "image/png": "[encoded data removed]",
      "text/plain": [
       "<Figure size 324x162 with 1 Axes>"
      ]
     },
     "metadata": {
      "needs_background": "light"
     },
     "output_type": "display_data"
    }
   ],
   "source": [
    "name = \"BZR\"\n",
    "data_type='Continuous'\n",
    "embed_type=2 #PWLR-OPT representation\n",
    "entry_type=1 #PWLR-OPT-H1 representation\n",
    "n_estimator_list = [10,25,50,100,150,200] #RF n_estimators\n",
    "max_depth_list = [None]\n",
    "parameter_list = [(16,18)] #values of k1 and k2\n",
    "repeat_num=10 #number of iterations of 10-fold CV\n",
    "grid_type = True #classification result obtained from grid search\n",
    "feature_type = True #feature importance obtained from RF displayed (only applicable to embed_type=2 & entry_type=0,1)\n",
    "\n",
    "result0, result1, result2 = grid_search_graph(name, entry_type, parameter_list, repeat_num, n_estimator_list, max_depth_list,data_type=data_type,embed_type=embed_type, grid_check=grid_type, feature_check=feature_type)"
   ]
  },
  {
   "cell_type": "code",
   "execution_count": 31,
   "metadata": {},
   "outputs": [
    {
     "name": "stdout",
     "output_type": "stream",
     "text": [
      " 2 and 1\n",
      "---10 Iterations of 10-fold CV---\n",
      "0.8787617260787993\n",
      "0.8868839899937461\n",
      "0.8838868042526578\n",
      "0.8934568480300188\n",
      "0.8817526579111945\n",
      "0.8884599749843651\n",
      "0.8911976235146968\n",
      "0.8867651657285803\n",
      "0.8791338336460288\n",
      "0.883886804252658\n",
      "---Results---\n",
      "H0+H1 0.8854185428392747 0.004616982774301009\n"
     ]
    }
   ],
   "source": [
    "name = \"BZR\"\n",
    "data_type='Continuous'\n",
    "embed_type=2 #PWLR-OPT representation\n",
    "entry_type=2 #PWLR-OPT-H0+H1 representation\n",
    "n_estimator_list = [10,25,50,100,150,200] #RF n_estimators\n",
    "max_depth_list = [None]\n",
    "parameter_list = [(2,1)] #values of k1 and k2\n",
    "repeat_num=10 #number of iterations of 10-fold CV\n",
    "grid_type = True #classification result obtained from grid search\n",
    "feature_type = False #feature importance obtained from RF displayed (only applicable to embed_type=2 & entry_type=0,1)\n",
    "\n",
    "result0, result1, result2 = grid_search_graph(name, entry_type, parameter_list, repeat_num, n_estimator_list, max_depth_list,data_type=data_type,embed_type=embed_type, grid_check=grid_type, feature_check=feature_type)"
   ]
  },
  {
   "cell_type": "markdown",
   "metadata": {},
   "source": [
    "# BZR-MD"
   ]
  },
  {
   "cell_type": "markdown",
   "metadata": {},
   "source": [
    "### BZR-MD PWLR"
   ]
  },
  {
   "cell_type": "code",
   "execution_count": 32,
   "metadata": {},
   "outputs": [
    {
     "name": "stdout",
     "output_type": "stream",
     "text": [
      " 0 and 3\n",
      "---10 Iterations of 10-fold CV---\n",
      "0.7641342232109751\n",
      "0.7642417500926956\n",
      "0.7318613274008157\n",
      "0.7411012235817576\n",
      "0.7576974416017798\n",
      "0.7677827215424544\n",
      "0.7322061549870227\n",
      "0.7614534668149796\n",
      "0.7394252873563218\n",
      "0.7485576566555432\n",
      "---Results---\n",
      "H0 0.7508461253244345 0.01319404264489425\n"
     ]
    }
   ],
   "source": [
    "name = \"BZR_MD\"\n",
    "data_type='Discrete'\n",
    "embed_type=1 #PWLR representation\n",
    "entry_type=0 #PWLR-H0 representation\n",
    "n_estimator_list = [10,25,50,100,150,200] #RF n_estimators\n",
    "max_depth_list = [None]\n",
    "parameter_list = [(0,3)] #values of k1 and k2\n",
    "repeat_num=10 #number of iterations of 10-fold CV\n",
    "grid_type = True #classification result obtained from grid search\n",
    "feature_type = False #feature importance obtained from RF displayed (only applicable to embed_type=2 & entry_type=0,1)\n",
    "\n",
    "result0, result1, result2 = grid_search_graph(name, entry_type, parameter_list, repeat_num, n_estimator_list, max_depth_list,data_type=data_type,embed_type=embed_type, grid_check=grid_type, feature_check=feature_type)"
   ]
  },
  {
   "cell_type": "code",
   "execution_count": 33,
   "metadata": {},
   "outputs": [
    {
     "name": "stdout",
     "output_type": "stream",
     "text": [
      " 1 and 4\n",
      "---10 Iterations of 10-fold CV---\n",
      "0.771776047460141\n",
      "0.7709158324063774\n",
      "0.7671153133110864\n",
      "0.79771227289581\n",
      "0.781153133110864\n",
      "0.7710085279940676\n",
      "0.7875676677790138\n",
      "0.7652317389692251\n",
      "0.7846941045606228\n",
      "0.7775824990730441\n",
      "---Results---\n",
      "H1 0.7774757137560253 0.00975500584668274\n"
     ]
    }
   ],
   "source": [
    "name = \"BZR_MD\"\n",
    "data_type='Discrete'\n",
    "embed_type=1 #PWLR representation\n",
    "entry_type=1 #PWLR-H1 representation\n",
    "n_estimator_list = [10,25,50,100,150,200] #RF n_estimators\n",
    "max_depth_list = [None]\n",
    "parameter_list = [(1,4)] #values of k1 and k2\n",
    "repeat_num=10 #number of iterations of 10-fold CV\n",
    "grid_type = True #classification result obtained from grid search\n",
    "feature_type = False #feature importance obtained from RF displayed (only applicable to embed_type=2 & entry_type=0,1)\n",
    "\n",
    "result0, result1, result2 = grid_search_graph(name, entry_type, parameter_list, repeat_num, n_estimator_list, max_depth_list,data_type=data_type,embed_type=embed_type, grid_check=grid_type, feature_check=feature_type)"
   ]
  },
  {
   "cell_type": "code",
   "execution_count": 34,
   "metadata": {},
   "outputs": [
    {
     "name": "stdout",
     "output_type": "stream",
     "text": [
      " 2 and 1\n",
      "---10 Iterations of 10-fold CV---\n",
      "0.7544493882091212\n",
      "0.7542343344456803\n",
      "0.7583203559510567\n",
      "0.7609158324063775\n",
      "0.7454542083796811\n",
      "0.7904783092324805\n",
      "0.7753392658509455\n",
      "0.755231738969225\n",
      "0.7650018539117538\n",
      "0.7841416388579904\n",
      "---Results---\n",
      "H0+H1 0.7643566926214312 0.013726902362255274\n"
     ]
    }
   ],
   "source": [
    "name = \"BZR_MD\"\n",
    "data_type='Discrete'\n",
    "embed_type=1 #PWLR representation\n",
    "entry_type=2 #PWLR-H0+H1 representation\n",
    "n_estimator_list = [10,25,50,100,150,200] #RF n_estimators\n",
    "max_depth_list = [None]\n",
    "parameter_list = [(2,1)] #values of k1 and k2\n",
    "repeat_num=10 #number of iterations of 10-fold CV\n",
    "grid_type = True #classification result obtained from grid search\n",
    "feature_type = False #feature importance obtained from RF displayed (only applicable to embed_type=2 & entry_type=0,1)\n",
    "\n",
    "result0, result1, result2 = grid_search_graph(name, entry_type, parameter_list, repeat_num, n_estimator_list, max_depth_list,data_type=data_type,embed_type=embed_type, grid_check=grid_type, feature_check=feature_type)"
   ]
  },
  {
   "cell_type": "markdown",
   "metadata": {},
   "source": [
    "### BZR_MD PWLR-OPT"
   ]
  },
  {
   "cell_type": "code",
   "execution_count": 39,
   "metadata": {},
   "outputs": [
    {
     "name": "stdout",
     "output_type": "stream",
     "text": [
      " 1 and 1\n",
      "---10 Iterations of 10-fold CV---\n",
      "0.7346644419725621\n",
      "0.7348720800889879\n",
      "0.708735632183908\n",
      "0.7119836855765665\n",
      "0.7289877641824248\n",
      "0.7386725991842789\n",
      "0.7358694846125325\n",
      "0.6926140155728586\n",
      "0.7288654060066742\n",
      "0.732220986281053\n",
      "---Results---\n",
      "H0 0.7247486095661847 0.014356550613578354\n",
      "---Feature Importance---\n",
      "['(1, 2)', 0.07985606327833543]\n",
      "['(1, 3)', 0.1825713662623249]\n",
      "['(1, 4)', 0.015568439971019296]\n",
      "['(2, 2)', 0.21935024027532685]\n",
      "['(2, 3)', 0.2563356831671202]\n",
      "['(2, 4)', 0.017434171896772623]\n",
      "['(3, 3)', 0.20704099546819155]\n",
      "['(3, 4)', 0.02184303968090916]\n"
     ]
    },
    {
     "data": {
      "image/png": "[encoded data removed]",
      "text/plain": [
       "<Figure size 288x144 with 1 Axes>"
      ]
     },
     "metadata": {
      "needs_background": "light"
     },
     "output_type": "display_data"
    }
   ],
   "source": [
    "name = \"BZR_MD\"\n",
    "data_type='Discrete'\n",
    "embed_type=2 #PWLR-OPT representation\n",
    "entry_type=0 #PWLR-OPT-H0 representation\n",
    "n_estimator_list = [10,25,50,100,150,200] #RF n_estimators\n",
    "max_depth_list = [None]\n",
    "parameter_list = [(1,1)] #values of k1 and k2\n",
    "repeat_num=10 #number of iterations of 10-fold CV\n",
    "grid_type = True #classification result obtained from grid search\n",
    "feature_type = True #feature importance obtained from RF displayed (only applicable to embed_type=2 & entry_type=0,1)\n",
    "\n",
    "result0, result1, result2 = grid_search_graph(name, entry_type, parameter_list, repeat_num, n_estimator_list, max_depth_list,data_type=data_type,embed_type=embed_type, grid_check=grid_type, feature_check=feature_type)"
   ]
  },
  {
   "cell_type": "code",
   "execution_count": 36,
   "metadata": {},
   "outputs": [
    {
     "name": "stdout",
     "output_type": "stream",
     "text": [
      " 2 and 0\n",
      "---10 Iterations of 10-fold CV---\n",
      "0.7374378939562477\n",
      "0.7380830552465703\n",
      "0.7352020763811643\n",
      "0.7503411197626992\n",
      "0.7480126065999259\n",
      "0.7446496106785317\n",
      "0.7556618464961068\n",
      "0.751783463107156\n",
      "0.7118539117538005\n",
      "0.7453170189099\n",
      "---Results---\n",
      "H1 0.7418342602892103 0.011819432903416143\n",
      "---Feature Importance---\n",
      "['(1, 2)', 0.0]\n",
      "['(1, 3)', 0.0]\n",
      "['(1, 4)', 0.0]\n",
      "['(2, 2)', 0.12231865084366075]\n",
      "['(2, 3)', 0.5948692178035972]\n",
      "['(2, 4)', 0.0]\n",
      "['(3, 3)', 0.26348741193448777]\n",
      "['(3, 4)', 0.019324719418254276]\n"
     ]
    },
    {
     "data": {
      "image/png": "[encoded data removed]",
      "text/plain": [
       "<Figure size 288x144 with 1 Axes>"
      ]
     },
     "metadata": {
      "needs_background": "light"
     },
     "output_type": "display_data"
    }
   ],
   "source": [
    "name = \"BZR_MD\"\n",
    "data_type='Discrete'\n",
    "embed_type=2 #PWLR-OPT representation\n",
    "entry_type=1 #PWLR-OPT-H1 representation\n",
    "n_estimator_list = [10,25,50,100,150,200] #RF n_estimators\n",
    "max_depth_list = [None]\n",
    "parameter_list = [(2,0)] #values of k1 and k2\n",
    "repeat_num=10 #number of iterations of 10-fold CV\n",
    "grid_type = True #classification result obtained from grid search\n",
    "feature_type = True #feature importance obtained from RF displayed (only applicable to embed_type=2 & entry_type=0,1)\n",
    "\n",
    "result0, result1, result2 = grid_search_graph(name, entry_type, parameter_list, repeat_num, n_estimator_list, max_depth_list,data_type=data_type,embed_type=embed_type, grid_check=grid_type, feature_check=feature_type)"
   ]
  },
  {
   "cell_type": "code",
   "execution_count": 43,
   "metadata": {},
   "outputs": [
    {
     "name": "stdout",
     "output_type": "stream",
     "text": [
      " 0 and 11\n",
      "---10 Iterations of 10-fold CV---\n",
      "0.7451019651464591\n",
      "0.7676826103077493\n",
      "0.7476603633667038\n",
      "0.7575899147200593\n",
      "0.7651316277345198\n",
      "0.7614460511679644\n",
      "0.7622135706340378\n",
      "0.7355469039673712\n",
      "0.7445569150908418\n",
      "0.7680051909529106\n",
      "---Results---\n",
      "H0+H1 0.7554935113088617 0.010815799115764831\n"
     ]
    }
   ],
   "source": [
    "name = \"BZR_MD\"\n",
    "data_type='Discrete'\n",
    "embed_type=2 #PWLR-OPT representation\n",
    "entry_type=2 #PWLR-OPT-H0+H1 representation\n",
    "n_estimator_list = [10,25,50,100,150,200] #RF n_estimators\n",
    "max_depth_list = [None]\n",
    "parameter_list = [(0,11)] #values of k1 and k2\n",
    "repeat_num=10 #number of iterations of 10-fold CV\n",
    "grid_type = True #classification result obtained from grid search\n",
    "feature_type = False #feature importance obtained from RF displayed (only applicable to embed_type=2 & entry_type=0,1)\n",
    "\n",
    "result0, result1, result2 = grid_search_graph(name, entry_type, parameter_list, repeat_num, n_estimator_list, max_depth_list,data_type=data_type,embed_type=embed_type, grid_check=grid_type, feature_check=feature_type)"
   ]
  },
  {
   "cell_type": "code",
   "execution_count": null,
   "metadata": {},
   "outputs": [],
   "source": []
  }
 ],
 "metadata": {
  "kernelspec": {
   "display_name": "Python 3",
   "language": "python",
   "name": "python3"
  },
  "language_info": {
   "codemirror_mode": {
    "name": "ipython",
    "version": 3
   },
   "file_extension": ".py",
   "mimetype": "text/x-python",
   "name": "python",
   "nbconvert_exporter": "python",
   "pygments_lexer": "ipython3",
   "version": "3.8.3"
  }
 },
 "nbformat": 4,
 "nbformat_minor": 2
}
